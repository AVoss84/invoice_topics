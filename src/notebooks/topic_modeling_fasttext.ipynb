{
 "cells": [
  {
   "cell_type": "code",
   "execution_count": 5,
   "metadata": {},
   "outputs": [
    {
     "name": "stderr",
     "output_type": "stream",
     "text": [
      "[nltk_data] Downloading package punkt to /home/alexv84/nltk_data...\n",
      "[nltk_data]   Package punkt is already up-to-date!\n",
      "[nltk_data] Downloading package stopwords to\n",
      "[nltk_data]     /home/alexv84/nltk_data...\n",
      "[nltk_data]   Package stopwords is already up-to-date!\n"
     ]
    },
    {
     "data": {
      "text/plain": [
       "<module 'claims_topics.resources.preprocessor' from '/home/alexv84/Documents/GitHub/invoice_topics/src/claims_topics/resources/preprocessor.py'>"
      ]
     },
     "execution_count": 5,
     "metadata": {},
     "output_type": "execute_result"
    }
   ],
   "source": [
    "import numpy as np\n",
    "import pandas as pd\n",
    "import os, gensim\n",
    "from nltk.tokenize import word_tokenize\n",
    "import fasttext\n",
    "from sklearn.pipeline import Pipeline\n",
    "from sklearn.preprocessing import LabelEncoder \n",
    "from umap import UMAP\n",
    "from pathlib import Path\n",
    "from copy import deepcopy\n",
    "from importlib import reload\n",
    "from pathlib import Path\n",
    "from matplotlib import pyplot as plt\n",
    "from claims_topics.utils import utils\n",
    "from claims_topics.resources import preprocessor as preproc\n",
    "from claims_topics.services import file\n",
    "from claims_topics.config import global_config as glob\n",
    "from claims_topics.config import config\n",
    "\n",
    "pd.set_option('display.max_colwidth', 30)\n",
    "pd.set_option('display.max_rows', 500)\n",
    " \n",
    "reload(glob)\n",
    "reload(utils)\n",
    "reload(file)\n",
    "reload(config)\n",
    "reload(preproc)"
   ]
  },
  {
   "cell_type": "markdown",
   "metadata": {},
   "source": [
    "## Read in data:"
   ]
  },
  {
   "cell_type": "code",
   "execution_count": 6,
   "metadata": {},
   "outputs": [
    {
     "name": "stdout",
     "output_type": "stream",
     "text": [
      "(405350, 42)\n"
     ]
    }
   ],
   "source": [
    "config_input = config.io['input']\n",
    "\n",
    "df = file.CSVService(root_path=glob.UC_DATA_DIR, schema_map=config_input['schema_map']['text_cols'], **config_input['service']['CSVService']).doRead()\n",
    "\n",
    "print(df.shape)"
   ]
  },
  {
   "cell_type": "code",
   "execution_count": 8,
   "metadata": {},
   "outputs": [
    {
     "name": "stdout",
     "output_type": "stream",
     "text": [
      "(365443, 3)\n"
     ]
    },
    {
     "data": {
      "text/html": [
       "<div>\n",
       "<style scoped>\n",
       "    .dataframe tbody tr th:only-of-type {\n",
       "        vertical-align: middle;\n",
       "    }\n",
       "\n",
       "    .dataframe tbody tr th {\n",
       "        vertical-align: top;\n",
       "    }\n",
       "\n",
       "    .dataframe thead th {\n",
       "        text-align: right;\n",
       "    }\n",
       "</style>\n",
       "<table border=\"1\" class=\"dataframe\">\n",
       "  <thead>\n",
       "    <tr style=\"text-align: right;\">\n",
       "      <th></th>\n",
       "      <th>assigned_labels</th>\n",
       "      <th>invoice_text</th>\n",
       "      <th>clm_descr</th>\n",
       "    </tr>\n",
       "  </thead>\n",
       "  <tbody>\n",
       "    <tr>\n",
       "      <th>0</th>\n",
       "      <td>Sonstiges</td>\n",
       "      <td>Femacellplatten 20 mm einb...</td>\n",
       "      <td>LW Schaden\\r\\nLeck nicht g...</td>\n",
       "    </tr>\n",
       "    <tr>\n",
       "      <th>1</th>\n",
       "      <td>Installationsarbeiten</td>\n",
       "      <td>Siliconfuge entlang dem So...</td>\n",
       "      <td>LW Schaden\\r\\nLeck nicht g...</td>\n",
       "    </tr>\n",
       "    <tr>\n",
       "      <th>3</th>\n",
       "      <td>Trocknung</td>\n",
       "      <td>Arbeitsstunden Bock 07 .06...</td>\n",
       "      <td>LW; fehlende Schraube am D...</td>\n",
       "    </tr>\n",
       "    <tr>\n",
       "      <th>4</th>\n",
       "      <td>Eternit-/Skobalit-Dach</td>\n",
       "      <td>Dachfläche mit polycarbona...</td>\n",
       "      <td>Hagelschaden an den Jalous...</td>\n",
       "    </tr>\n",
       "    <tr>\n",
       "      <th>5</th>\n",
       "      <td>Fliesenarbeiten</td>\n",
       "      <td>Haftgrundlerung Bodenfläch...</td>\n",
       "      <td>Rohrverschraubung undicht</td>\n",
       "    </tr>\n",
       "    <tr>\n",
       "      <th>6</th>\n",
       "      <td>Sonstiges</td>\n",
       "      <td>Kunststoffsockel, RAL 7016...</td>\n",
       "      <td>Durch den Sturm und Hagel ...</td>\n",
       "    </tr>\n",
       "    <tr>\n",
       "      <th>7</th>\n",
       "      <td>Sonstiges</td>\n",
       "      <td>Blindnietmutter M8  352.324</td>\n",
       "      <td>Durch den Sturm und Hagel ...</td>\n",
       "    </tr>\n",
       "    <tr>\n",
       "      <th>8</th>\n",
       "      <td>Eternit-/Skobalit-Dach</td>\n",
       "      <td>Alu Band PP 50 mm 50 m Typ...</td>\n",
       "      <td>Carport (freistehend) durc...</td>\n",
       "    </tr>\n",
       "    <tr>\n",
       "      <th>9</th>\n",
       "      <td>Eternit-/Skobalit-Dach</td>\n",
       "      <td>Mendinger Mittelprofil pre...</td>\n",
       "      <td>Carport (freistehend) durc...</td>\n",
       "    </tr>\n",
       "    <tr>\n",
       "      <th>10</th>\n",
       "      <td>Fliesenarbeiten</td>\n",
       "      <td>Wannenablage  Wanneli*!ase...</td>\n",
       "      <td>bitte mit dem VN sprechen ...</td>\n",
       "    </tr>\n",
       "  </tbody>\n",
       "</table>\n",
       "</div>"
      ],
      "text/plain": [
       "           assigned_labels                   invoice_text  \\\n",
       "0                Sonstiges  Femacellplatten 20 mm einb...   \n",
       "1    Installationsarbeiten  Siliconfuge entlang dem So...   \n",
       "3                Trocknung  Arbeitsstunden Bock 07 .06...   \n",
       "4   Eternit-/Skobalit-Dach  Dachfläche mit polycarbona...   \n",
       "5          Fliesenarbeiten  Haftgrundlerung Bodenfläch...   \n",
       "6                Sonstiges  Kunststoffsockel, RAL 7016...   \n",
       "7                Sonstiges    Blindnietmutter M8  352.324   \n",
       "8   Eternit-/Skobalit-Dach  Alu Band PP 50 mm 50 m Typ...   \n",
       "9   Eternit-/Skobalit-Dach  Mendinger Mittelprofil pre...   \n",
       "10         Fliesenarbeiten  Wannenablage  Wanneli*!ase...   \n",
       "\n",
       "                        clm_descr  \n",
       "0   LW Schaden\\r\\nLeck nicht g...  \n",
       "1   LW Schaden\\r\\nLeck nicht g...  \n",
       "3   LW; fehlende Schraube am D...  \n",
       "4   Hagelschaden an den Jalous...  \n",
       "5       Rohrverschraubung undicht  \n",
       "6   Durch den Sturm und Hagel ...  \n",
       "7   Durch den Sturm und Hagel ...  \n",
       "8   Carport (freistehend) durc...  \n",
       "9   Carport (freistehend) durc...  \n",
       "10  bitte mit dem VN sprechen ...  "
      ]
     },
     "execution_count": 8,
     "metadata": {},
     "output_type": "execute_result"
    }
   ],
   "source": [
    "# Columns to use:\n",
    "#-----------------\n",
    "#col_sel = ['id_sch','invoice_item_id', 'dl_gewerk','firma', 'yylobbez', 'erartbez', 'hsp_eigen', 'hsp_prodbez', 'sartbez', 'sursbez', 'schilderung', 'de1_eks_postext']\n",
    "#col_sel = ['dl_gewerk','de1_eks_postext']\n",
    "col_sel = ['assigned_labels', 'invoice_text', 'clm_descr']\n",
    "#col_sel = ['de1_eks_postext']\n",
    "\n",
    "corpus = df[col_sel].drop_duplicates(subset=col_sel, keep=False) #.head(1*10**3)\n",
    "\n",
    "print(corpus.shape)\n",
    "corpus.head(10)"
   ]
  },
  {
   "cell_type": "markdown",
   "metadata": {},
   "source": [
    "### Preprocess data, encode labels, prepare input for word2vec format... "
   ]
  },
  {
   "cell_type": "code",
   "execution_count": 80,
   "metadata": {},
   "outputs": [
    {
     "name": "stdout",
     "output_type": "stream",
     "text": [
      "Using 232 stop words.\n",
      "Added 20 stopword(s).\n",
      "Adding custom German stop words...\n",
      "Removed 2 stopword(s).\n",
      "Loading nltk stemmer.\n",
      "Setting to lower cases.\n",
      "Removing whitespaces.\n",
      "Applying word tokenizer.\n",
      "Removing custom stopwords.\n",
      "Removing punctuations.\n",
      "Removing numbers.\n",
      "Removing digits.\n",
      "Removing non-alphabetic characters.\n",
      "Replacing German Umlaute.\n",
      "Removing special character punctuations.\n",
      "Removing short tokens.\n",
      "Applying stemming.\n",
      "Finished preprocessing!\n"
     ]
    }
   ],
   "source": [
    "# Create labels for supervised topic modeling:\n",
    "target = LabelEncoder().fit_transform(corpus['assigned_labels'].tolist())   # labels\n",
    "\n",
    "# Build corpus\n",
    "X = corpus['invoice_text']\n",
    "#X = corpus['clm_descr']\n",
    "#corpus['target'] = target\n",
    "\n",
    "# Preprocess corpus:\n",
    "cleaner = preproc.clean_text(language='german', without_stopwords=['nicht', 'keine'], lemma = False, stem = True)\n",
    "\n",
    "X_cl = cleaner.fit_transform(X)\n",
    "\n",
    "docs = X_cl.tolist()                            # format for BertTopic\n",
    "target_names = corpus['assigned_labels'].tolist()       # class labels\n",
    "\n",
    "corpus_cl = X_cl.apply(lambda x: word_tokenize(x))       # this format needed for word2vec training only\n",
    "\n",
    "sentences = corpus_cl.tolist() "
   ]
  },
  {
   "cell_type": "markdown",
   "metadata": {},
   "source": [
    "Prepare training data for fasttext: "
   ]
  },
  {
   "cell_type": "code",
   "execution_count": 81,
   "metadata": {},
   "outputs": [
    {
     "name": "stdout",
     "output_type": "stream",
     "text": [
      "TXT Service output to file: /home/alexv84/Documents/GitHub/invoice_topics/src/claims_topics/data/train_data_fasttext.txt\n"
     ]
    }
   ],
   "source": [
    "config_output = config.io['output']\n",
    "Path(glob.UC_DATA_PKG_DIR).mkdir(parents=True, exist_ok=True)\n",
    "\n",
    "file.TXTService(verbose=True, root_path=glob.UC_DATA_PKG_DIR, **config_output['service']['TXTService']).doWrite(docs)"
   ]
  },
  {
   "cell_type": "markdown",
   "metadata": {},
   "source": [
    "# FastText"
   ]
  },
  {
   "cell_type": "code",
   "execution_count": 82,
   "metadata": {},
   "outputs": [
    {
     "name": "stdout",
     "output_type": "stream",
     "text": [
      "-- Using Skip-gram --\n"
     ]
    },
    {
     "name": "stderr",
     "output_type": "stream",
     "text": [
      "Read 1M words\n",
      "Number of words:  18168\n",
      "Number of labels: 0\n",
      "Progress: 100.0% words/sec/thread:   48427 lr:  0.000000 avg.loss:  1.035894 ETA:   0h 0m 0s"
     ]
    },
    {
     "name": "stdout",
     "output_type": "stream",
     "text": [
      "Done!\n"
     ]
    },
    {
     "name": "stderr",
     "output_type": "stream",
     "text": [
      "\n"
     ]
    }
   ],
   "source": [
    "# Train model\n",
    "#-------------\n",
    "reload(utils)\n",
    "\n",
    "mtype = 'skipgram'    #'cbow'  \n",
    "\n",
    "print(f\"-- Using {'Skip-gram' if mtype == 'skipgram' else 'CBOW'} --\")\n",
    "# Training word embeddings: \n",
    "model = fasttext.train_unsupervised(os.path.join(glob.UC_DATA_PKG_DIR,'train_data_fasttext.txt'), wordNgrams = 2, dim=100, epoch=60, lr=0.05, model=mtype, verbose=2)\n",
    "print(\"Done!\")"
   ]
  },
  {
   "cell_type": "code",
   "execution_count": 83,
   "metadata": {},
   "outputs": [
    {
     "data": {
      "text/plain": [
       "[(0.7948389649391174, 'haftkleb'),\n",
       " (0.6829271912574768, 'kleber'),\n",
       " (0.6581794023513794, 'altkleb'),\n",
       " (0.6321030259132385, 'kaltkleb'),\n",
       " (0.6146448850631714, 'kraftkleb'),\n",
       " (0.5647808313369751, 'kaltklebebahn'),\n",
       " (0.5613037347793579, 'eber'),\n",
       " (0.5603737235069275, 'restkleb'),\n",
       " (0.5569964051246643, 'haftemulsion'),\n",
       " (0.5547472238540649, 'nichtkleb')]"
      ]
     },
     "execution_count": 83,
     "metadata": {},
     "output_type": "execute_result"
    }
   ],
   "source": [
    "#model.words\n",
    "#model.get_word_vector(\"haftkleber\")\n",
    "model.get_nearest_neighbors('haftkleber')"
   ]
  },
  {
   "cell_type": "markdown",
   "metadata": {},
   "source": [
    "Save model:"
   ]
  },
  {
   "cell_type": "code",
   "execution_count": 45,
   "metadata": {},
   "outputs": [],
   "source": [
    "# Save the trained model\n",
    "model.save_model(os.path.join(glob.UC_DATA_DIR,'fasttext_trained_model.bin'))\n",
    "print(\"Model saved.\")"
   ]
  },
  {
   "cell_type": "markdown",
   "metadata": {},
   "source": [
    "Load model:"
   ]
  },
  {
   "cell_type": "code",
   "execution_count": 85,
   "metadata": {},
   "outputs": [],
   "source": [
    "# Load pre-trained model\n",
    "#model = fasttext.load_model(os.path.join(glob.UC_DATA_DIR,'fasttext_trained_model.bin'))"
   ]
  },
  {
   "cell_type": "markdown",
   "metadata": {},
   "source": [
    "### Create document (= sentence) embeddings from word embeddings"
   ]
  },
  {
   "cell_type": "code",
   "execution_count": 84,
   "metadata": {},
   "outputs": [
    {
     "name": "stderr",
     "output_type": "stream",
     "text": [
      "100%|██████████| 365443/365443 [00:09<00:00, 36837.78it/s]\n"
     ]
    },
    {
     "name": "stdout",
     "output_type": "stream",
     "text": [
      "(365443, 200)\n",
      "365443\n"
     ]
    }
   ],
   "source": [
    "reload(utils)\n",
    "\n",
    "embeddings, index2doc, doc2index = utils.get_fasttext_document_embeddings(model, docs)         \n",
    "\n",
    "print(embeddings.shape)\n",
    "print(len(docs))"
   ]
  },
  {
   "cell_type": "markdown",
   "metadata": {},
   "source": [
    "Instantiate HDBSCAN:"
   ]
  },
  {
   "cell_type": "code",
   "execution_count": 49,
   "metadata": {},
   "outputs": [],
   "source": [
    "from hdbscan import HDBSCAN\n",
    "\n",
    "cluster_model = HDBSCAN(min_cluster_size=15, cluster_selection_method='eom', prediction_data=True)\n",
    "\n",
    "# from sklearn.cluster import KMeans, Birch\n",
    "\n",
    "# cluster_model = KMeans(n_clusters=50)"
   ]
  },
  {
   "cell_type": "markdown",
   "metadata": {},
   "source": [
    "## Build topic model based on trained document embeddings:"
   ]
  },
  {
   "cell_type": "markdown",
   "metadata": {},
   "source": [
    "Semi-supervised"
   ]
  },
  {
   "cell_type": "code",
   "execution_count": 50,
   "metadata": {},
   "outputs": [],
   "source": [
    "new_labels = target.copy()\n",
    "ind = np.array(target_names) == 'Sonstiges'   # keep out this category (unsupervised set of observations!)\n",
    "new_labels[ind] = -1           # ignore\n",
    "new_labels = new_labels.tolist()"
   ]
  },
  {
   "cell_type": "markdown",
   "metadata": {},
   "source": [
    "Use transfer learning:"
   ]
  },
  {
   "cell_type": "code",
   "execution_count": 107,
   "metadata": {},
   "outputs": [],
   "source": [
    "# from sentence_transformers import SentenceTransformer\n",
    "\n",
    "# nr_topics = 10\n",
    "# sentence_model = SentenceTransformer(\"deepset/gbert-base\", device=\"cuda\")\n",
    "\n",
    "# topic_model = BERTopic(verbose=True, language=\"german\", embedding_model=sentence_model,    \n",
    "#                        vectorizer_model = vectorizer, nr_topics=nr_topics,\n",
    "#                        diversity=None)\n",
    "\n",
    "#?BERTopic"
   ]
  },
  {
   "cell_type": "markdown",
   "metadata": {},
   "source": [
    "Use own embeddings:"
   ]
  },
  {
   "cell_type": "code",
   "execution_count": 51,
   "metadata": {},
   "outputs": [
    {
     "name": "stderr",
     "output_type": "stream",
     "text": [
      "2022-11-19 19:27:59,488 - BERTopic - Reduced dimensionality\n",
      "2022-11-19 19:28:07,937 - BERTopic - Clustered reduced embeddings\n",
      "2022-11-19 19:28:13,305 - BERTopic - Reduced number of topics from 50 to 6\n"
     ]
    }
   ],
   "source": [
    "from bertopic import BERTopic\n",
    "\n",
    "os.environ[\"TOKENIZERS_PARALLELISM\"] = \"false\"\n",
    "\n",
    "nr_topics = 6     # number of clusters\n",
    "#nr_topics = \"auto\"\n",
    "\n",
    "topic_model = BERTopic(verbose=True, nr_topics=nr_topics, hdbscan_model=cluster_model, umap_model=None, diversity = 0.5)   # Maximal Marginal Relevance -> diversity = 0 / Not diverse\n",
    "#topics, _ = topic_model.fit_transform(docs, embeddings = embeddings)                  # unsupervised  \n",
    "#topics, _ = topic_model.fit_transform(docs, embeddings = embeddings, y=target)         # supervised\n",
    "topics, _ = topic_model.fit_transform(docs, embeddings = embeddings, y=new_labels)         # semi-supervised"
   ]
  },
  {
   "cell_type": "code",
   "execution_count": 52,
   "metadata": {},
   "outputs": [
    {
     "data": {
      "text/html": [
       "<div>\n",
       "<style scoped>\n",
       "    .dataframe tbody tr th:only-of-type {\n",
       "        vertical-align: middle;\n",
       "    }\n",
       "\n",
       "    .dataframe tbody tr th {\n",
       "        vertical-align: top;\n",
       "    }\n",
       "\n",
       "    .dataframe thead th {\n",
       "        text-align: right;\n",
       "    }\n",
       "</style>\n",
       "<table border=\"1\" class=\"dataframe\">\n",
       "  <thead>\n",
       "    <tr style=\"text-align: right;\">\n",
       "      <th></th>\n",
       "      <th>Topic</th>\n",
       "      <th>Count</th>\n",
       "      <th>Name</th>\n",
       "    </tr>\n",
       "  </thead>\n",
       "  <tbody>\n",
       "    <tr>\n",
       "      <th>0</th>\n",
       "      <td>0</td>\n",
       "      <td>86452</td>\n",
       "      <td>0_entfernen_wand_entsorgen...</td>\n",
       "    </tr>\n",
       "    <tr>\n",
       "      <th>1</th>\n",
       "      <td>1</td>\n",
       "      <td>59998</td>\n",
       "      <td>1_entsorgung_monteur_demon...</td>\n",
       "    </tr>\n",
       "    <tr>\n",
       "      <th>2</th>\n",
       "      <td>2</td>\n",
       "      <td>47777</td>\n",
       "      <td>2_liefern_montieren_verleg...</td>\n",
       "    </tr>\n",
       "    <tr>\n",
       "      <th>3</th>\n",
       "      <td>3</td>\n",
       "      <td>47011</td>\n",
       "      <td>3_rotguss_bogen_grad_sanpress</td>\n",
       "    </tr>\n",
       "    <tr>\n",
       "      <th>4</th>\n",
       "      <td>4</td>\n",
       "      <td>36231</td>\n",
       "      <td>4_weiss_montage_verchromt_...</td>\n",
       "    </tr>\n",
       "    <tr>\n",
       "      <th>5</th>\n",
       "      <td>5</td>\n",
       "      <td>28851</td>\n",
       "      <td>5_baustelleneinrichtung_ab...</td>\n",
       "    </tr>\n",
       "  </tbody>\n",
       "</table>\n",
       "</div>"
      ],
      "text/plain": [
       "   Topic  Count                           Name\n",
       "0      0  86452  0_entfernen_wand_entsorgen...\n",
       "1      1  59998  1_entsorgung_monteur_demon...\n",
       "2      2  47777  2_liefern_montieren_verleg...\n",
       "3      3  47011  3_rotguss_bogen_grad_sanpress\n",
       "4      4  36231  4_weiss_montage_verchromt_...\n",
       "5      5  28851  5_baustelleneinrichtung_ab..."
      ]
     },
     "execution_count": 52,
     "metadata": {},
     "output_type": "execute_result"
    }
   ],
   "source": [
    "topic_model.get_topic_info()"
   ]
  },
  {
   "cell_type": "code",
   "execution_count": 53,
   "metadata": {},
   "outputs": [
    {
     "data": {
      "text/html": [
       "<div>\n",
       "<style scoped>\n",
       "    .dataframe tbody tr th:only-of-type {\n",
       "        vertical-align: middle;\n",
       "    }\n",
       "\n",
       "    .dataframe tbody tr th {\n",
       "        vertical-align: top;\n",
       "    }\n",
       "\n",
       "    .dataframe thead th {\n",
       "        text-align: right;\n",
       "    }\n",
       "</style>\n",
       "<table border=\"1\" class=\"dataframe\">\n",
       "  <thead>\n",
       "    <tr style=\"text-align: right;\">\n",
       "      <th></th>\n",
       "      <th>Text</th>\n",
       "      <th>Cluster</th>\n",
       "    </tr>\n",
       "  </thead>\n",
       "  <tbody>\n",
       "    <tr>\n",
       "      <th>0</th>\n",
       "      <td>femacellplatten einbauen</td>\n",
       "      <td>2</td>\n",
       "    </tr>\n",
       "    <tr>\n",
       "      <th>1</th>\n",
       "      <td>siliconfuge entlang sockel</td>\n",
       "      <td>0</td>\n",
       "    </tr>\n",
       "    <tr>\n",
       "      <th>2</th>\n",
       "      <td>arbeitsstunden bock</td>\n",
       "      <td>1</td>\n",
       "    </tr>\n",
       "    <tr>\n",
       "      <th>3</th>\n",
       "      <td>dachflaeche polycarbonat t...</td>\n",
       "      <td>2</td>\n",
       "    </tr>\n",
       "    <tr>\n",
       "      <th>4</th>\n",
       "      <td>haftgrundlerung bodenflaec...</td>\n",
       "      <td>0</td>\n",
       "    </tr>\n",
       "    <tr>\n",
       "      <th>...</th>\n",
       "      <td>...</td>\n",
       "      <td>...</td>\n",
       "    </tr>\n",
       "    <tr>\n",
       "      <th>306315</th>\n",
       "      <td>geberit silent abzweig grad</td>\n",
       "      <td>3</td>\n",
       "    </tr>\n",
       "    <tr>\n",
       "      <th>306316</th>\n",
       "      <td>raum wandtrocknungen stand...</td>\n",
       "      <td>0</td>\n",
       "    </tr>\n",
       "    <tr>\n",
       "      <th>306317</th>\n",
       "      <td>wasserschaden betroffenen ...</td>\n",
       "      <td>0</td>\n",
       "    </tr>\n",
       "    <tr>\n",
       "      <th>306318</th>\n",
       "      <td>geruestkosten einruesten w...</td>\n",
       "      <td>5</td>\n",
       "    </tr>\n",
       "    <tr>\n",
       "      <th>306319</th>\n",
       "      <td>montage aufnahme dergesamt...</td>\n",
       "      <td>1</td>\n",
       "    </tr>\n",
       "  </tbody>\n",
       "</table>\n",
       "<p>306320 rows × 2 columns</p>\n",
       "</div>"
      ],
      "text/plain": [
       "                                 Text  Cluster\n",
       "0            femacellplatten einbauen        2\n",
       "1          siliconfuge entlang sockel        0\n",
       "2                 arbeitsstunden bock        1\n",
       "3       dachflaeche polycarbonat t...        2\n",
       "4       haftgrundlerung bodenflaec...        0\n",
       "...                               ...      ...\n",
       "306315    geberit silent abzweig grad        3\n",
       "306316  raum wandtrocknungen stand...        0\n",
       "306317  wasserschaden betroffenen ...        0\n",
       "306318  geruestkosten einruesten w...        5\n",
       "306319  montage aufnahme dergesamt...        1\n",
       "\n",
       "[306320 rows x 2 columns]"
      ]
     },
     "execution_count": 53,
     "metadata": {},
     "output_type": "execute_result"
    }
   ],
   "source": [
    "df_new = pd.DataFrame({'Text': docs})\n",
    "df_new['Cluster'] = topics\n",
    "df_new"
   ]
  },
  {
   "cell_type": "code",
   "execution_count": 32,
   "metadata": {},
   "outputs": [],
   "source": [
    "#topic_model.save(os.path.join(glob.UC_DATA_ROOT,\"invoice_topic_model\"))     # save\n",
    "#topic_model = BERTopic.load(os.path.join(glob.UC_DATA_ROOT,\"invoice_topic_model\"))   # load"
   ]
  },
  {
   "cell_type": "code",
   "execution_count": 33,
   "metadata": {},
   "outputs": [],
   "source": [
    "# Merge cluster assignments to orginal corpus:\n",
    "#corpus['topic'] = topics\n",
    "#corpus.merge(topic_model.get_topic_info()[['Topic', 'Name']], how=\"left\", left_on='topic', right_on='Topic')"
   ]
  },
  {
   "cell_type": "code",
   "execution_count": 34,
   "metadata": {},
   "outputs": [],
   "source": [
    "#topic_model.get_topic_info().head(10)"
   ]
  },
  {
   "cell_type": "markdown",
   "metadata": {},
   "source": [
    "Create more intuitive topic labels:"
   ]
  },
  {
   "cell_type": "code",
   "execution_count": 54,
   "metadata": {},
   "outputs": [],
   "source": [
    "topic_labels = topic_model.generate_topic_labels(nr_words=3,\n",
    "                                                 topic_prefix=False,\n",
    "                                                 word_length=10,\n",
    "                                                 separator=\", \")\n",
    "#topic_labels"
   ]
  },
  {
   "cell_type": "code",
   "execution_count": 55,
   "metadata": {},
   "outputs": [],
   "source": [
    "topic_model.set_topic_labels(topic_labels)"
   ]
  },
  {
   "cell_type": "code",
   "execution_count": 56,
   "metadata": {},
   "outputs": [],
   "source": [
    "#topic_model.visualize_topics()\n",
    "#topic_model.get_topic(0)\n",
    "#topic_model.visualize_hierarchy(top_n_topics=50)\n",
    "#topic_model.visualize_heatmap(n_clusters=nr_topics-1, width=1000, height=1000)"
   ]
  },
  {
   "cell_type": "code",
   "execution_count": 57,
   "metadata": {},
   "outputs": [],
   "source": [
    "# Reduce dimensionality of embeddings, this step is optional but much faster to perform iteratively:\n",
    "#reduced_embeddings = UMAP(n_neighbors=5, n_components=2, min_dist=0.0, metric='cosine').fit_transform(embeddings)\n",
    "\n",
    "#fig = topic_model.visualize_documents(docs, reduced_embeddings=reduced_embeddings)\n",
    "\n",
    "#fig.write_html(os.path.join(glob.UC_DATA_ROOT, \"doc_chart.html\"))    # save as html"
   ]
  },
  {
   "cell_type": "code",
   "execution_count": 58,
   "metadata": {},
   "outputs": [
    {
     "data": {
      "application/vnd.plotly.v1+json": {
       "config": {
        "plotlyServerURL": "https://plot.ly"
       },
       "data": [
        {
         "marker": {
          "color": "#D55E00"
         },
         "orientation": "h",
         "type": "bar",
         "x": [
          0.0225249115283838,
          0.022864131628210764,
          0.02436477455557892,
          0.025067959102381694,
          0.025943512161168837,
          0.027073037798938698,
          0.027894239118839335,
          0.03538525109313917,
          0.03814454768639274,
          0.045643368473523176
         ],
         "xaxis": "x",
         "y": [
          "grundieren  ",
          "decke  ",
          "wandflaechen  ",
          "streichen  ",
          "fliesen  ",
          "trocknung  ",
          "abdecken  ",
          "entsorgen  ",
          "wand  ",
          "entfernen  "
         ],
         "yaxis": "y"
        },
        {
         "marker": {
          "color": "#0072B2"
         },
         "orientation": "h",
         "type": "bar",
         "x": [
          0.02632867402486629,
          0.027625296764197466,
          0.03082424246175793,
          0.03168466721033553,
          0.035015696541108976,
          0.03759656039352289,
          0.0390398264553953,
          0.048030400624815964,
          0.05091918323338592,
          0.07653821600669215
         ],
         "xaxis": "x2",
         "y": [
          "bauschutt  ",
          "material  ",
          "arbeitszeit  ",
          "nachweis  ",
          "arbeiten  ",
          "facharbeiter  ",
          "montage  ",
          "demontage  ",
          "monteur  ",
          "entsorgung  "
         ],
         "yaxis": "y2"
        },
        {
         "marker": {
          "color": "#CC79A7"
         },
         "orientation": "h",
         "type": "bar",
         "x": [
          0.029066544646765047,
          0.029150829393038955,
          0.029564924185373407,
          0.03023074699437314,
          0.03135653969355756,
          0.03226979950521599,
          0.03245454935391812,
          0.04894266410302045,
          0.06929910511073495,
          0.1255631013587377
         ],
         "xaxis": "x3",
         "y": [
          "anbringen  ",
          "befestigungsmaterial  ",
          "zink  ",
          "kleinmaterial  ",
          "klein  ",
          "schrauben  ",
          "einbauen  ",
          "verlegen  ",
          "montieren  ",
          "liefern  "
         ],
         "yaxis": "y3"
        },
        {
         "marker": {
          "color": "#E69F00"
         },
         "orientation": "h",
         "type": "bar",
         "x": [
          0.060336083303016916,
          0.06086809817529328,
          0.06197437531914811,
          0.0786888912113591,
          0.08241988013505507,
          0.09201231025226346,
          0.09728407586773162,
          0.10517569024573134,
          0.12014876266792028,
          0.12453929561639458
         ],
         "xaxis": "x4",
         "y": [
          "kupfer  ",
          "pressanschluss  ",
          "uebergangsstueck  ",
          "stueck  ",
          "profipress  ",
          "muffe  ",
          "sanpress  ",
          "grad  ",
          "bogen  ",
          "rotguss  "
         ],
         "yaxis": "y4"
        },
        {
         "marker": {
          "color": "#56B4E9"
         },
         "orientation": "h",
         "type": "bar",
         "x": [
          0.022456000104374083,
          0.022497948118097598,
          0.023023082432618348,
          0.024026404882948858,
          0.026864729397302767,
          0.02701600708461672,
          0.028020120892965364,
          0.034316058040128446,
          0.04215348227952112,
          0.05730076166765459
         ],
         "xaxis": "x5",
         "y": [
          "pfosten  ",
          "velux  ",
          "stueck  ",
          "lieferung  ",
          "liefern  ",
          "kunststoff  ",
          "farbe  ",
          "verchromt  ",
          "montage  ",
          "weiss  "
         ],
         "yaxis": "y5"
        },
        {
         "marker": {
          "color": "#009E73"
         },
         "orientation": "h",
         "type": "bar",
         "x": [
          0.04581969844498799,
          0.04668376548264897,
          0.05076783330432373,
          0.051993627243607114,
          0.05606849688215154,
          0.0574175167445695,
          0.0580758439015649,
          0.06821068820189688,
          0.07610116055357989,
          0.08301908479322605
         ],
         "xaxis": "x6",
         "y": [
          "abbauen  ",
          "geruest  ",
          "anfahrt  ",
          "pauschale  ",
          "einsatz  ",
          "zone  ",
          "baustelle  ",
          "vorhalten  ",
          "abfahrt  ",
          "baustelleneinrichtung  "
         ],
         "yaxis": "y6"
        }
       ],
       "layout": {
        "annotations": [
         {
          "font": {
           "size": 16
          },
          "showarrow": false,
          "text": "Topic 0",
          "x": 0.0875,
          "xanchor": "center",
          "xref": "paper",
          "y": 1,
          "yanchor": "bottom",
          "yref": "paper"
         },
         {
          "font": {
           "size": 16
          },
          "showarrow": false,
          "text": "Topic 1",
          "x": 0.36250000000000004,
          "xanchor": "center",
          "xref": "paper",
          "y": 1,
          "yanchor": "bottom",
          "yref": "paper"
         },
         {
          "font": {
           "size": 16
          },
          "showarrow": false,
          "text": "Topic 2",
          "x": 0.6375000000000001,
          "xanchor": "center",
          "xref": "paper",
          "y": 1,
          "yanchor": "bottom",
          "yref": "paper"
         },
         {
          "font": {
           "size": 16
          },
          "showarrow": false,
          "text": "Topic 3",
          "x": 0.9125,
          "xanchor": "center",
          "xref": "paper",
          "y": 1,
          "yanchor": "bottom",
          "yref": "paper"
         },
         {
          "font": {
           "size": 16
          },
          "showarrow": false,
          "text": "Topic 4",
          "x": 0.0875,
          "xanchor": "center",
          "xref": "paper",
          "y": 0.4,
          "yanchor": "bottom",
          "yref": "paper"
         },
         {
          "font": {
           "size": 16
          },
          "showarrow": false,
          "text": "Topic 5",
          "x": 0.36250000000000004,
          "xanchor": "center",
          "xref": "paper",
          "y": 0.4,
          "yanchor": "bottom",
          "yref": "paper"
         }
        ],
        "height": 700,
        "hoverlabel": {
         "bgcolor": "white",
         "font": {
          "family": "Rockwell",
          "size": 16
         }
        },
        "showlegend": false,
        "template": {
         "data": {
          "bar": [
           {
            "error_x": {
             "color": "#2a3f5f"
            },
            "error_y": {
             "color": "#2a3f5f"
            },
            "marker": {
             "line": {
              "color": "white",
              "width": 0.5
             },
             "pattern": {
              "fillmode": "overlay",
              "size": 10,
              "solidity": 0.2
             }
            },
            "type": "bar"
           }
          ],
          "barpolar": [
           {
            "marker": {
             "line": {
              "color": "white",
              "width": 0.5
             },
             "pattern": {
              "fillmode": "overlay",
              "size": 10,
              "solidity": 0.2
             }
            },
            "type": "barpolar"
           }
          ],
          "carpet": [
           {
            "aaxis": {
             "endlinecolor": "#2a3f5f",
             "gridcolor": "#C8D4E3",
             "linecolor": "#C8D4E3",
             "minorgridcolor": "#C8D4E3",
             "startlinecolor": "#2a3f5f"
            },
            "baxis": {
             "endlinecolor": "#2a3f5f",
             "gridcolor": "#C8D4E3",
             "linecolor": "#C8D4E3",
             "minorgridcolor": "#C8D4E3",
             "startlinecolor": "#2a3f5f"
            },
            "type": "carpet"
           }
          ],
          "choropleth": [
           {
            "colorbar": {
             "outlinewidth": 0,
             "ticks": ""
            },
            "type": "choropleth"
           }
          ],
          "contour": [
           {
            "colorbar": {
             "outlinewidth": 0,
             "ticks": ""
            },
            "colorscale": [
             [
              0,
              "#0d0887"
             ],
             [
              0.1111111111111111,
              "#46039f"
             ],
             [
              0.2222222222222222,
              "#7201a8"
             ],
             [
              0.3333333333333333,
              "#9c179e"
             ],
             [
              0.4444444444444444,
              "#bd3786"
             ],
             [
              0.5555555555555556,
              "#d8576b"
             ],
             [
              0.6666666666666666,
              "#ed7953"
             ],
             [
              0.7777777777777778,
              "#fb9f3a"
             ],
             [
              0.8888888888888888,
              "#fdca26"
             ],
             [
              1,
              "#f0f921"
             ]
            ],
            "type": "contour"
           }
          ],
          "contourcarpet": [
           {
            "colorbar": {
             "outlinewidth": 0,
             "ticks": ""
            },
            "type": "contourcarpet"
           }
          ],
          "heatmap": [
           {
            "colorbar": {
             "outlinewidth": 0,
             "ticks": ""
            },
            "colorscale": [
             [
              0,
              "#0d0887"
             ],
             [
              0.1111111111111111,
              "#46039f"
             ],
             [
              0.2222222222222222,
              "#7201a8"
             ],
             [
              0.3333333333333333,
              "#9c179e"
             ],
             [
              0.4444444444444444,
              "#bd3786"
             ],
             [
              0.5555555555555556,
              "#d8576b"
             ],
             [
              0.6666666666666666,
              "#ed7953"
             ],
             [
              0.7777777777777778,
              "#fb9f3a"
             ],
             [
              0.8888888888888888,
              "#fdca26"
             ],
             [
              1,
              "#f0f921"
             ]
            ],
            "type": "heatmap"
           }
          ],
          "heatmapgl": [
           {
            "colorbar": {
             "outlinewidth": 0,
             "ticks": ""
            },
            "colorscale": [
             [
              0,
              "#0d0887"
             ],
             [
              0.1111111111111111,
              "#46039f"
             ],
             [
              0.2222222222222222,
              "#7201a8"
             ],
             [
              0.3333333333333333,
              "#9c179e"
             ],
             [
              0.4444444444444444,
              "#bd3786"
             ],
             [
              0.5555555555555556,
              "#d8576b"
             ],
             [
              0.6666666666666666,
              "#ed7953"
             ],
             [
              0.7777777777777778,
              "#fb9f3a"
             ],
             [
              0.8888888888888888,
              "#fdca26"
             ],
             [
              1,
              "#f0f921"
             ]
            ],
            "type": "heatmapgl"
           }
          ],
          "histogram": [
           {
            "marker": {
             "pattern": {
              "fillmode": "overlay",
              "size": 10,
              "solidity": 0.2
             }
            },
            "type": "histogram"
           }
          ],
          "histogram2d": [
           {
            "colorbar": {
             "outlinewidth": 0,
             "ticks": ""
            },
            "colorscale": [
             [
              0,
              "#0d0887"
             ],
             [
              0.1111111111111111,
              "#46039f"
             ],
             [
              0.2222222222222222,
              "#7201a8"
             ],
             [
              0.3333333333333333,
              "#9c179e"
             ],
             [
              0.4444444444444444,
              "#bd3786"
             ],
             [
              0.5555555555555556,
              "#d8576b"
             ],
             [
              0.6666666666666666,
              "#ed7953"
             ],
             [
              0.7777777777777778,
              "#fb9f3a"
             ],
             [
              0.8888888888888888,
              "#fdca26"
             ],
             [
              1,
              "#f0f921"
             ]
            ],
            "type": "histogram2d"
           }
          ],
          "histogram2dcontour": [
           {
            "colorbar": {
             "outlinewidth": 0,
             "ticks": ""
            },
            "colorscale": [
             [
              0,
              "#0d0887"
             ],
             [
              0.1111111111111111,
              "#46039f"
             ],
             [
              0.2222222222222222,
              "#7201a8"
             ],
             [
              0.3333333333333333,
              "#9c179e"
             ],
             [
              0.4444444444444444,
              "#bd3786"
             ],
             [
              0.5555555555555556,
              "#d8576b"
             ],
             [
              0.6666666666666666,
              "#ed7953"
             ],
             [
              0.7777777777777778,
              "#fb9f3a"
             ],
             [
              0.8888888888888888,
              "#fdca26"
             ],
             [
              1,
              "#f0f921"
             ]
            ],
            "type": "histogram2dcontour"
           }
          ],
          "mesh3d": [
           {
            "colorbar": {
             "outlinewidth": 0,
             "ticks": ""
            },
            "type": "mesh3d"
           }
          ],
          "parcoords": [
           {
            "line": {
             "colorbar": {
              "outlinewidth": 0,
              "ticks": ""
             }
            },
            "type": "parcoords"
           }
          ],
          "pie": [
           {
            "automargin": true,
            "type": "pie"
           }
          ],
          "scatter": [
           {
            "fillpattern": {
             "fillmode": "overlay",
             "size": 10,
             "solidity": 0.2
            },
            "type": "scatter"
           }
          ],
          "scatter3d": [
           {
            "line": {
             "colorbar": {
              "outlinewidth": 0,
              "ticks": ""
             }
            },
            "marker": {
             "colorbar": {
              "outlinewidth": 0,
              "ticks": ""
             }
            },
            "type": "scatter3d"
           }
          ],
          "scattercarpet": [
           {
            "marker": {
             "colorbar": {
              "outlinewidth": 0,
              "ticks": ""
             }
            },
            "type": "scattercarpet"
           }
          ],
          "scattergeo": [
           {
            "marker": {
             "colorbar": {
              "outlinewidth": 0,
              "ticks": ""
             }
            },
            "type": "scattergeo"
           }
          ],
          "scattergl": [
           {
            "marker": {
             "colorbar": {
              "outlinewidth": 0,
              "ticks": ""
             }
            },
            "type": "scattergl"
           }
          ],
          "scattermapbox": [
           {
            "marker": {
             "colorbar": {
              "outlinewidth": 0,
              "ticks": ""
             }
            },
            "type": "scattermapbox"
           }
          ],
          "scatterpolar": [
           {
            "marker": {
             "colorbar": {
              "outlinewidth": 0,
              "ticks": ""
             }
            },
            "type": "scatterpolar"
           }
          ],
          "scatterpolargl": [
           {
            "marker": {
             "colorbar": {
              "outlinewidth": 0,
              "ticks": ""
             }
            },
            "type": "scatterpolargl"
           }
          ],
          "scatterternary": [
           {
            "marker": {
             "colorbar": {
              "outlinewidth": 0,
              "ticks": ""
             }
            },
            "type": "scatterternary"
           }
          ],
          "surface": [
           {
            "colorbar": {
             "outlinewidth": 0,
             "ticks": ""
            },
            "colorscale": [
             [
              0,
              "#0d0887"
             ],
             [
              0.1111111111111111,
              "#46039f"
             ],
             [
              0.2222222222222222,
              "#7201a8"
             ],
             [
              0.3333333333333333,
              "#9c179e"
             ],
             [
              0.4444444444444444,
              "#bd3786"
             ],
             [
              0.5555555555555556,
              "#d8576b"
             ],
             [
              0.6666666666666666,
              "#ed7953"
             ],
             [
              0.7777777777777778,
              "#fb9f3a"
             ],
             [
              0.8888888888888888,
              "#fdca26"
             ],
             [
              1,
              "#f0f921"
             ]
            ],
            "type": "surface"
           }
          ],
          "table": [
           {
            "cells": {
             "fill": {
              "color": "#EBF0F8"
             },
             "line": {
              "color": "white"
             }
            },
            "header": {
             "fill": {
              "color": "#C8D4E3"
             },
             "line": {
              "color": "white"
             }
            },
            "type": "table"
           }
          ]
         },
         "layout": {
          "annotationdefaults": {
           "arrowcolor": "#2a3f5f",
           "arrowhead": 0,
           "arrowwidth": 1
          },
          "autotypenumbers": "strict",
          "coloraxis": {
           "colorbar": {
            "outlinewidth": 0,
            "ticks": ""
           }
          },
          "colorscale": {
           "diverging": [
            [
             0,
             "#8e0152"
            ],
            [
             0.1,
             "#c51b7d"
            ],
            [
             0.2,
             "#de77ae"
            ],
            [
             0.3,
             "#f1b6da"
            ],
            [
             0.4,
             "#fde0ef"
            ],
            [
             0.5,
             "#f7f7f7"
            ],
            [
             0.6,
             "#e6f5d0"
            ],
            [
             0.7,
             "#b8e186"
            ],
            [
             0.8,
             "#7fbc41"
            ],
            [
             0.9,
             "#4d9221"
            ],
            [
             1,
             "#276419"
            ]
           ],
           "sequential": [
            [
             0,
             "#0d0887"
            ],
            [
             0.1111111111111111,
             "#46039f"
            ],
            [
             0.2222222222222222,
             "#7201a8"
            ],
            [
             0.3333333333333333,
             "#9c179e"
            ],
            [
             0.4444444444444444,
             "#bd3786"
            ],
            [
             0.5555555555555556,
             "#d8576b"
            ],
            [
             0.6666666666666666,
             "#ed7953"
            ],
            [
             0.7777777777777778,
             "#fb9f3a"
            ],
            [
             0.8888888888888888,
             "#fdca26"
            ],
            [
             1,
             "#f0f921"
            ]
           ],
           "sequentialminus": [
            [
             0,
             "#0d0887"
            ],
            [
             0.1111111111111111,
             "#46039f"
            ],
            [
             0.2222222222222222,
             "#7201a8"
            ],
            [
             0.3333333333333333,
             "#9c179e"
            ],
            [
             0.4444444444444444,
             "#bd3786"
            ],
            [
             0.5555555555555556,
             "#d8576b"
            ],
            [
             0.6666666666666666,
             "#ed7953"
            ],
            [
             0.7777777777777778,
             "#fb9f3a"
            ],
            [
             0.8888888888888888,
             "#fdca26"
            ],
            [
             1,
             "#f0f921"
            ]
           ]
          },
          "colorway": [
           "#636efa",
           "#EF553B",
           "#00cc96",
           "#ab63fa",
           "#FFA15A",
           "#19d3f3",
           "#FF6692",
           "#B6E880",
           "#FF97FF",
           "#FECB52"
          ],
          "font": {
           "color": "#2a3f5f"
          },
          "geo": {
           "bgcolor": "white",
           "lakecolor": "white",
           "landcolor": "white",
           "showlakes": true,
           "showland": true,
           "subunitcolor": "#C8D4E3"
          },
          "hoverlabel": {
           "align": "left"
          },
          "hovermode": "closest",
          "mapbox": {
           "style": "light"
          },
          "paper_bgcolor": "white",
          "plot_bgcolor": "white",
          "polar": {
           "angularaxis": {
            "gridcolor": "#EBF0F8",
            "linecolor": "#EBF0F8",
            "ticks": ""
           },
           "bgcolor": "white",
           "radialaxis": {
            "gridcolor": "#EBF0F8",
            "linecolor": "#EBF0F8",
            "ticks": ""
           }
          },
          "scene": {
           "xaxis": {
            "backgroundcolor": "white",
            "gridcolor": "#DFE8F3",
            "gridwidth": 2,
            "linecolor": "#EBF0F8",
            "showbackground": true,
            "ticks": "",
            "zerolinecolor": "#EBF0F8"
           },
           "yaxis": {
            "backgroundcolor": "white",
            "gridcolor": "#DFE8F3",
            "gridwidth": 2,
            "linecolor": "#EBF0F8",
            "showbackground": true,
            "ticks": "",
            "zerolinecolor": "#EBF0F8"
           },
           "zaxis": {
            "backgroundcolor": "white",
            "gridcolor": "#DFE8F3",
            "gridwidth": 2,
            "linecolor": "#EBF0F8",
            "showbackground": true,
            "ticks": "",
            "zerolinecolor": "#EBF0F8"
           }
          },
          "shapedefaults": {
           "line": {
            "color": "#2a3f5f"
           }
          },
          "ternary": {
           "aaxis": {
            "gridcolor": "#DFE8F3",
            "linecolor": "#A2B1C6",
            "ticks": ""
           },
           "baxis": {
            "gridcolor": "#DFE8F3",
            "linecolor": "#A2B1C6",
            "ticks": ""
           },
           "bgcolor": "white",
           "caxis": {
            "gridcolor": "#DFE8F3",
            "linecolor": "#A2B1C6",
            "ticks": ""
           }
          },
          "title": {
           "x": 0.05
          },
          "xaxis": {
           "automargin": true,
           "gridcolor": "#EBF0F8",
           "linecolor": "#EBF0F8",
           "ticks": "",
           "title": {
            "standoff": 15
           },
           "zerolinecolor": "#EBF0F8",
           "zerolinewidth": 2
          },
          "yaxis": {
           "automargin": true,
           "gridcolor": "#EBF0F8",
           "linecolor": "#EBF0F8",
           "ticks": "",
           "title": {
            "standoff": 15
           },
           "zerolinecolor": "#EBF0F8",
           "zerolinewidth": 2
          }
         }
        },
        "title": {
         "font": {
          "color": "Black",
          "size": 22
         },
         "text": "<b>Topic Word Scores",
         "x": 0.5,
         "xanchor": "center",
         "yanchor": "top"
        },
        "width": 1600,
        "xaxis": {
         "anchor": "y",
         "domain": [
          0,
          0.175
         ],
         "showgrid": true
        },
        "xaxis2": {
         "anchor": "y2",
         "domain": [
          0.275,
          0.45
         ],
         "showgrid": true
        },
        "xaxis3": {
         "anchor": "y3",
         "domain": [
          0.55,
          0.7250000000000001
         ],
         "showgrid": true
        },
        "xaxis4": {
         "anchor": "y4",
         "domain": [
          0.825,
          1
         ],
         "showgrid": true
        },
        "xaxis5": {
         "anchor": "y5",
         "domain": [
          0,
          0.175
         ],
         "showgrid": true
        },
        "xaxis6": {
         "anchor": "y6",
         "domain": [
          0.275,
          0.45
         ],
         "showgrid": true
        },
        "xaxis7": {
         "anchor": "y7",
         "domain": [
          0.55,
          0.7250000000000001
         ],
         "showgrid": true
        },
        "xaxis8": {
         "anchor": "y8",
         "domain": [
          0.825,
          1
         ],
         "showgrid": true
        },
        "yaxis": {
         "anchor": "x",
         "domain": [
          0.6000000000000001,
          1
         ],
         "showgrid": true
        },
        "yaxis2": {
         "anchor": "x2",
         "domain": [
          0.6000000000000001,
          1
         ],
         "showgrid": true
        },
        "yaxis3": {
         "anchor": "x3",
         "domain": [
          0.6000000000000001,
          1
         ],
         "showgrid": true
        },
        "yaxis4": {
         "anchor": "x4",
         "domain": [
          0.6000000000000001,
          1
         ],
         "showgrid": true
        },
        "yaxis5": {
         "anchor": "x5",
         "domain": [
          0,
          0.4
         ],
         "showgrid": true
        },
        "yaxis6": {
         "anchor": "x6",
         "domain": [
          0,
          0.4
         ],
         "showgrid": true
        },
        "yaxis7": {
         "anchor": "x7",
         "domain": [
          0,
          0.4
         ],
         "showgrid": true
        },
        "yaxis8": {
         "anchor": "x8",
         "domain": [
          0,
          0.4
         ],
         "showgrid": true
        }
       }
      }
     },
     "metadata": {},
     "output_type": "display_data"
    }
   ],
   "source": [
    "fig = topic_model.visualize_barchart(n_words=10, top_n_topics=nr_topics , width=400, height=350)    # plotly figure object\n",
    "fig"
   ]
  },
  {
   "cell_type": "code",
   "execution_count": 59,
   "metadata": {},
   "outputs": [],
   "source": [
    "fig.write_html(os.path.join(glob.UC_DATA_PKG_DIR, \"topic_barchart2.html\"))    # save as html"
   ]
  },
  {
   "cell_type": "code",
   "execution_count": 36,
   "metadata": {},
   "outputs": [],
   "source": [
    "#np.any(np.isnan(doc_vectors))\n",
    "#np.all(np.isfinite(doc_vectors))"
   ]
  },
  {
   "cell_type": "markdown",
   "metadata": {},
   "source": [
    "### Train UMAP for document embedding visualization:"
   ]
  },
  {
   "cell_type": "code",
   "execution_count": 85,
   "metadata": {},
   "outputs": [],
   "source": [
    "embedding_umap = UMAP(n_components=2).fit(embeddings)\n",
    "\n",
    "umap_embeddings = embedding_umap.embedding_"
   ]
  },
  {
   "cell_type": "code",
   "execution_count": null,
   "metadata": {},
   "outputs": [
    {
     "data": {
      "text/plain": [
       "(306320, 2)"
      ]
     },
     "execution_count": 18,
     "metadata": {},
     "output_type": "execute_result"
    }
   ],
   "source": [
    "umap_embeddings.shape"
   ]
  },
  {
   "cell_type": "markdown",
   "metadata": {},
   "source": [
    "Visualize compressed document embeddings in 2D"
   ]
  },
  {
   "cell_type": "code",
   "execution_count": null,
   "metadata": {},
   "outputs": [
    {
     "data": {
      "image/png": "[encoded data removed]",
      "text/plain": [
       "<Figure size 800x600 with 1 Axes>"
      ]
     },
     "metadata": {},
     "output_type": "display_data"
    }
   ],
   "source": [
    "import matplotlib.pyplot as plt\n",
    "\n",
    "fig, ax = plt.subplots(figsize=(8, 6))\n",
    "plt.scatter(\n",
    "    umap_embeddings[:, 0], umap_embeddings[:, 1], cmap=\"Spectral\", s=0.1\n",
    ")\n",
    "plt.title(\"CBOW compressed document embeddings\", fontsize=18)\n",
    "\n",
    "plt.show();"
   ]
  },
  {
   "cell_type": "code",
   "execution_count": 1,
   "metadata": {},
   "outputs": [],
   "source": [
    "#X = embeddings.copy()\n",
    "#X = embeddings[:10**3,:]  # for test"
   ]
  },
  {
   "cell_type": "markdown",
   "metadata": {},
   "source": [
    "## Graph analytics:"
   ]
  },
  {
   "cell_type": "code",
   "execution_count": 128,
   "metadata": {},
   "outputs": [
    {
     "name": "stdout",
     "output_type": "stream",
     "text": [
      "(365443, 15)\n"
     ]
    }
   ],
   "source": [
    "import umap\n",
    "from sklearn.preprocessing import StandardScaler\n",
    "\n",
    "embeddings_sc = StandardScaler().fit_transform(embeddings)\n",
    "\n",
    "embedding_umap = umap.UMAP(n_components=15).fit(embeddings_sc)\n",
    "\n",
    "X = embedding_umap.embedding_\n",
    "\n",
    "print(X.shape)"
   ]
  },
  {
   "cell_type": "code",
   "execution_count": 131,
   "metadata": {},
   "outputs": [
    {
     "name": "stdout",
     "output_type": "stream",
     "text": [
      "** Using angular metric for approx. 5-NN **\n"
     ]
    },
    {
     "name": "stderr",
     "output_type": "stream",
     "text": [
      "100%|██████████| 365443/365443 [00:00<00:00, 1264826.75it/s]\n"
     ]
    },
    {
     "name": "stdout",
     "output_type": "stream",
     "text": [
      "- Indexing finished and saved as: /home/alexv84/Documents/GitHub/invoice_topics/src/claims_topics/data/knn_index.ann\n"
     ]
    },
    {
     "name": "stderr",
     "output_type": "stream",
     "text": [
      "100%|██████████| 365443/365443 [00:20<00:00, 18261.64it/s]"
     ]
    },
    {
     "name": "stdout",
     "output_type": "stream",
     "text": [
      "- Adjacency list created and saved as: /home/alexv84/Documents/GitHub/invoice_topics/src/claims_topics/data/graph_adjlist.txt\n",
      "Done.\n",
      "0.2\n"
     ]
    },
    {
     "name": "stderr",
     "output_type": "stream",
     "text": [
      "\n"
     ]
    }
   ],
   "source": [
    "reload(utils)\n",
    "\n",
    "dist, L2_thresh = utils.adjstruct_generator.create(embeddings = X, corpus = X_cl, doc2index = doc2index, dist_thresh = 0.2, metric = \"angular\")   # metric = \"angular\"\n",
    "print(L2_thresh)"
   ]
  },
  {
   "cell_type": "code",
   "execution_count": 132,
   "metadata": {},
   "outputs": [
    {
     "data": {
      "image/png": "[encoded data removed]",
      "text/plain": [
       "<Figure size 640x480 with 1 Axes>"
      ]
     },
     "metadata": {},
     "output_type": "display_data"
    }
   ],
   "source": [
    "plt.hist(dist, bins=40);"
   ]
  },
  {
   "cell_type": "markdown",
   "metadata": {},
   "source": [
    "Create undirected weighted graph based on document embeddings:"
   ]
  },
  {
   "cell_type": "code",
   "execution_count": 133,
   "metadata": {},
   "outputs": [],
   "source": [
    "import networkx as nx\n",
    "\n",
    "G = nx.read_weighted_edgelist(os.path.join(glob.UC_DATA_PKG_DIR,'graph_adjlist.txt'))     # with\n",
    "\n",
    "# G_df = pd.read_csv(os.path.join(glob.UC_DATA_PKG_DIR, 'graph_adjlist.txt'), delim_whitespace=True, \n",
    "#                    header=None, names=['n1', 'n2', 'weight']) #.sort_index()      # Ex.: groupby-count structure\n",
    "# G_df"
   ]
  },
  {
   "cell_type": "code",
   "execution_count": 100,
   "metadata": {},
   "outputs": [],
   "source": [
    "#G.edges(data=True)"
   ]
  },
  {
   "cell_type": "code",
   "execution_count": 101,
   "metadata": {},
   "outputs": [],
   "source": [
    "# pos = nx.spring_layout(G)\n",
    "# nx.draw(G, pos, node_size = 75, alpha = 0.8)\n",
    "# plt.show()"
   ]
  },
  {
   "cell_type": "markdown",
   "metadata": {},
   "source": [
    "Add node betweenness centrality as node attribute"
   ]
  },
  {
   "cell_type": "code",
   "execution_count": null,
   "metadata": {},
   "outputs": [],
   "source": [
    "bb = nx.betweenness_centrality(G)\n",
    "\n",
    "nx.set_node_attributes(G, bb, \"betweenness\")   "
   ]
  },
  {
   "cell_type": "code",
   "execution_count": null,
   "metadata": {},
   "outputs": [],
   "source": [
    "#G.nodes(data=True)"
   ]
  },
  {
   "cell_type": "markdown",
   "metadata": {},
   "source": [
    "Create the induced subgraph of each connected component:"
   ]
  },
  {
   "cell_type": "code",
   "execution_count": 134,
   "metadata": {},
   "outputs": [],
   "source": [
    "S = [G.subgraph(c).copy() for c in nx.connected_components(G)]"
   ]
  },
  {
   "cell_type": "code",
   "execution_count": 128,
   "metadata": {},
   "outputs": [],
   "source": [
    "from community import community_louvain\n",
    "\n",
    "comms = community_louvain.best_partition(G)   #keys of the dictionary are the nodes and the values correspond to the community which that node belongs to"
   ]
  },
  {
   "cell_type": "code",
   "execution_count": 129,
   "metadata": {},
   "outputs": [
    {
     "data": {
      "text/plain": [
       "array([   0,    1,    2, ..., 2579, 2580, 2581])"
      ]
     },
     "execution_count": 129,
     "metadata": {},
     "output_type": "execute_result"
    }
   ],
   "source": [
    "unique_coms = np.unique(list(comms.values()))\n",
    "unique_coms"
   ]
  },
  {
   "cell_type": "markdown",
   "metadata": {},
   "source": [
    "Collect members per community:"
   ]
  },
  {
   "cell_type": "code",
   "execution_count": 130,
   "metadata": {},
   "outputs": [
    {
     "ename": "KeyboardInterrupt",
     "evalue": "",
     "output_type": "error",
     "traceback": [
      "\u001b[0;31m---------------------------------------------------------------------------\u001b[0m",
      "\u001b[0;31mKeyboardInterrupt\u001b[0m                         Traceback (most recent call last)",
      "Cell \u001b[0;32mIn [130], line 5\u001b[0m\n\u001b[1;32m      3\u001b[0m members \u001b[38;5;241m=\u001b[39m \u001b[38;5;28mset\u001b[39m()\n\u001b[1;32m      4\u001b[0m \u001b[38;5;28;01mfor\u001b[39;00m ns \u001b[38;5;129;01min\u001b[39;00m comms\u001b[38;5;241m.\u001b[39mkeys():\n\u001b[0;32m----> 5\u001b[0m   \u001b[38;5;28;01mif\u001b[39;00m comms[\u001b[38;5;28;43mstr\u001b[39;49m\u001b[43m(\u001b[49m\u001b[43mns\u001b[49m\u001b[43m)\u001b[49m] \u001b[38;5;241m==\u001b[39m com:\n\u001b[1;32m      6\u001b[0m     members\u001b[38;5;241m.\u001b[39madd(ns)\n\u001b[1;32m      7\u001b[0m     com_dict[\u001b[38;5;28mstr\u001b[39m(com)] \u001b[38;5;241m=\u001b[39m members\n",
      "\u001b[0;31mKeyboardInterrupt\u001b[0m: "
     ]
    }
   ],
   "source": [
    "com_dict = {}\n",
    "for com in comms.values():\n",
    "  members = set()\n",
    "  for ns in comms.keys():\n",
    "    if comms[str(ns)] == com:\n",
    "      members.add(ns)\n",
    "      com_dict[str(com)] = members"
   ]
  },
  {
   "cell_type": "code",
   "execution_count": null,
   "metadata": {},
   "outputs": [],
   "source": [
    "len(com_dict)"
   ]
  },
  {
   "cell_type": "code",
   "execution_count": 103,
   "metadata": {},
   "outputs": [
    {
     "ename": "NameError",
     "evalue": "name 'com_dict' is not defined",
     "output_type": "error",
     "traceback": [
      "\u001b[0;31m---------------------------------------------------------------------------\u001b[0m",
      "\u001b[0;31mNameError\u001b[0m                                 Traceback (most recent call last)",
      "Cell \u001b[0;32mIn [103], line 1\u001b[0m\n\u001b[0;32m----> 1\u001b[0m S \u001b[38;5;241m=\u001b[39m [G\u001b[38;5;241m.\u001b[39msubgraph(c)\u001b[38;5;241m.\u001b[39mcopy() \u001b[38;5;28;01mfor\u001b[39;00m c \u001b[38;5;129;01min\u001b[39;00m \u001b[43mcom_dict\u001b[49m\u001b[38;5;241m.\u001b[39mvalues()]\n\u001b[1;32m      2\u001b[0m \u001b[38;5;66;03m#S = [G.subgraph(c).copy() for c in nx.connected_components(G)]\u001b[39;00m\n\u001b[1;32m      3\u001b[0m \u001b[38;5;28mlen\u001b[39m(S)\n",
      "\u001b[0;31mNameError\u001b[0m: name 'com_dict' is not defined"
     ]
    }
   ],
   "source": [
    "S = [G.subgraph(c).copy() for c in com_dict.values()]\n",
    "#S = [G.subgraph(c).copy() for c in nx.connected_components(G)]\n",
    "len(S)"
   ]
  },
  {
   "cell_type": "code",
   "execution_count": 135,
   "metadata": {},
   "outputs": [],
   "source": [
    "sub_G = iter(S)     # iterate over subgraphs"
   ]
  },
  {
   "cell_type": "code",
   "execution_count": 152,
   "metadata": {},
   "outputs": [
    {
     "name": "stdout",
     "output_type": "stream",
     "text": [
      "164\n"
     ]
    }
   ],
   "source": [
    "sub_i = next(sub_G)\n",
    "\n",
    "print(len(sub_i.nodes()))"
   ]
  },
  {
   "cell_type": "code",
   "execution_count": 153,
   "metadata": {},
   "outputs": [],
   "source": [
    "pg_rank = nx.pagerank(G = sub_i)\n",
    "\n",
    "max_rank_index = max(pg_rank, key=pg_rank.get)"
   ]
  },
  {
   "cell_type": "code",
   "execution_count": 154,
   "metadata": {},
   "outputs": [
    {
     "data": {
      "image/png": "[encoded data removed]",
      "text/plain": [
       "<Figure size 640x480 with 1 Axes>"
      ]
     },
     "metadata": {},
     "output_type": "display_data"
    }
   ],
   "source": [
    "#nx.draw_networkx(sub_i)\n",
    "\n",
    "pos = nx.spring_layout(sub_i)\n",
    "nx.draw(sub_i, pos, node_size = 75, alpha = 0.8)\n",
    "plt.show()"
   ]
  },
  {
   "cell_type": "code",
   "execution_count": 155,
   "metadata": {},
   "outputs": [],
   "source": [
    "#G.edges(data=True)\n",
    "\n",
    "#sub_i.nodes(data=True)"
   ]
  },
  {
   "cell_type": "code",
   "execution_count": 156,
   "metadata": {},
   "outputs": [
    {
     "name": "stdout",
     "output_type": "stream",
     "text": [
      "49841\n",
      "xtra uebergang\n",
      "271432\n",
      "pistolenschaum\n",
      "39927\n",
      "filzdaemmband\n",
      "185436\n",
      "silent muff\n",
      "162992\n",
      "klein verbrauchsmaterial\n",
      "49825\n",
      "badewann\n",
      "40407\n",
      "conel flex schlauchisolier ungeschl laeng\n",
      "331413\n",
      "schnellbindemoertel\n",
      "282792\n",
      "crassus verbind\n",
      "307726\n",
      "dito ubergangsmuff\n",
      "30217\n",
      "schiebemuff sanpress profipress rotguss pressanschluss\n",
      "77547\n",
      "viega fertigset multiplex visign verchromt\n",
      "90741\n",
      "kupferrohr dvgw halbhart stang\n",
      "357583\n",
      "uponor nippel\n",
      "62969\n",
      "apid verbind\n",
      "227111\n",
      "wannenank mepa wannenrandabstuetz\n",
      "262633\n",
      "dicht kleinmaterial\n",
      "163654\n",
      "schutzschlauch flex plus conel schutzfoll gleitfoll\n",
      "8457\n",
      "trinkwasserrohr roll\n",
      "83964\n",
      "schlossschraub\n",
      "216087\n",
      "alufix verschlussklebeband\n",
      "344346\n",
      "crassus hlauchadapt\n",
      "229282\n",
      "grossentlueft\n",
      "230218\n",
      "silent muff geberit\n",
      "66612\n",
      "isolierlack\n",
      "104873\n",
      "ventilator\n",
      "280433\n",
      "conlit schal\n",
      "84121\n",
      "punis schiauchadapt\n",
      "249467\n",
      "dicht kleinmaterial\n",
      "359070\n",
      "xtrafiex schlauchisolier\n",
      "324988\n",
      "materialkost rohrebis durchmess\n",
      "259243\n",
      "armalok isolier\n",
      "331418\n",
      "bauschutt\n",
      "153231\n",
      "uebergangsstueck sanpress profipress rotguss pressanschluss\n",
      "255313\n",
      "rotguss hahnverlaenger stundenlohnarbeit\n",
      "131650\n",
      "silent muff\n",
      "248088\n",
      "trinnity flex panzerschlauch heizung trinkwass\n",
      "94575\n",
      "steinwoll\n",
      "233934\n",
      "pausch spax schraub\n",
      "123273\n",
      "befestigungssatz weiss chromfarb kapp\n",
      "295961\n",
      "kabelschutzrohr flexibel\n",
      "26864\n",
      "wand anschlussgarnitur laeng geberit\n",
      "317928\n",
      "bauschutt\n",
      "71537\n",
      "rotguss form\n",
      "181865\n",
      "selbstkleb\n",
      "82831\n",
      "eternit gummi rillenring\n",
      "287081\n",
      "gesamtbetrag\n",
      "111485\n",
      "eckventil\n",
      "198862\n",
      "alukaschiert isolier\n",
      "90063\n",
      "edelstahlrohr sanpress blank stang\n",
      "60794\n",
      "daemmung isolier\n",
      "176996\n",
      "rohr inkl verbindungsstueck befest\n",
      "163097\n",
      "brandschutzmanschell conea\n",
      "43208\n",
      "conel flex schlauchisolier angeschlitzt\n",
      "48649\n",
      "dachdeck moertel grau\n",
      "113055\n",
      "sanco kupferrohr ring\n",
      "157131\n",
      "hahnverlaenger dvgw rotguss konisch zylindr\n",
      "129918\n",
      "edelstahlrohr sanpress blank stang\n",
      "150917\n",
      "vorandelement wascht bidet\n",
      "220103\n",
      "uponor ubergangsnippel press\n",
      "75144\n",
      "geberit ersatz schwimmerventil unifill spuelka\n",
      "94114\n",
      "rundungsdifferenz\n",
      "253826\n",
      "lkwpa\n",
      "63734\n",
      "ablaulfgarnitur raumsparwann\n",
      "88778\n",
      "rohr form verbindungsteil\n",
      "196186\n",
      "sanpress bog\n",
      "5962\n",
      "abzweig muff abgang\n",
      "102913\n",
      "xtraconnect uebergang\n",
      "151767\n",
      "paneel duofix geberit impraegniert\n",
      "311946\n",
      "klemmverschraub rohr verbundr incl huel\n",
      "22364\n",
      "quadro schlauchisol flex conel ungeschl laeng\n",
      "193345\n",
      "drain einseit muff con\n",
      "195172\n",
      "minivent schnellentlueft absp\n",
      "345193\n",
      "brandschutzmanschett flam conel brennbar rohr\n",
      "50448\n",
      "einseillg muff\n",
      "267723\n",
      "spachtelmass duofix paneel geberit beuteln\n",
      "288609\n",
      "dicht kleinmaterial\n",
      "196572\n",
      "schell edelstahl\n",
      "347638\n",
      "stueck hahnverrlaengez rotguss konisch zyllndr\n",
      "315601\n",
      "kupferrohr sanco dvgw halbhart\n",
      "326193\n",
      "protektor profil verzinkt\n",
      "197804\n",
      "geberit verbindungsstueck sperrhuels\n",
      "43386\n",
      "misselfix garant daemmstreif roll\n",
      "350857\n",
      "mepla metallv stang\n",
      "170735\n",
      "schalbrett\n",
      "231295\n",
      "stopfwoll isolier\n",
      "301122\n",
      "stang\n",
      "339677\n",
      "tapetenloes\n",
      "268262\n",
      "silent bog\n",
      "302774\n",
      "schieferstift verzinkt\n",
      "74642\n",
      "xtrafiex abwasserschlauch schutzfoli auss rollenl\n",
      "316200\n",
      "bog profipress kupf pressanschluss\n",
      "309183\n",
      "profipress bog\n",
      "229220\n",
      "stueck hahnverlaenger dvgw rotguss konisch zylindr\n",
      "345433\n",
      "dichtmaterial befest\n",
      "352227\n",
      "rotguss stueck\n",
      "255562\n",
      "trinkwass heizung stang\n",
      "97306\n",
      "dicht kleinmaterial\n",
      "58968\n",
      "dachdeckermoertel grau\n",
      "360359\n",
      "spuelrohrinnenverbind epdm\n",
      "139778\n",
      "formteil rotguss\n",
      "171074\n",
      "conlit muffenrohrschal\n",
      "328148\n",
      "abdeck\n",
      "222407\n",
      "vorn\n",
      "43408\n",
      "eckventil\n",
      "95712\n",
      "gebo verschraub\n",
      "19439\n",
      "bog profipress\n",
      "350767\n",
      "fahrtkost anfahrt einf\n",
      "102264\n",
      "draiin einseitg mufff conel\n",
      "130984\n",
      "mepa wannendichtband mepaaquaproof laeng\n",
      "259457\n",
      "fugenmass\n",
      "36285\n",
      "kautschuk isolier\n",
      "221705\n",
      "schiebemuff sanpress profipress rotguss pressanschluss\n",
      "48005\n",
      "isolier alukaschiert\n",
      "258254\n",
      "druckrohr klebemuff glatt grau\n",
      "287533\n",
      "dachdeckermoertel faserarmiert\n",
      "25166\n",
      "dicht kleinmaterial\n",
      "364710\n",
      "abgasrohr\n",
      "150791\n",
      "muff silentpp\n",
      "8070\n",
      "wedi bauplatt\n",
      "147914\n",
      "doppelstegplatt\n",
      "29724\n",
      "uebergangsstueck sanpress profipress rotguss pressanschluss\n",
      "215694\n",
      "sanpress stueck\n",
      "345547\n",
      "eckventil\n",
      "245443\n",
      "kupferrohr dvgw halbhart stang lief monti\n",
      "11373\n",
      "uebergangswinkel mepla grad rotguss\n",
      "256018\n",
      "lief monti\n",
      "264117\n",
      "wickelstreif misselfix\n",
      "297954\n",
      "panzerschlauch handhebelpress\n",
      "214775\n",
      "mepla uebergang\n",
      "167899\n",
      "rohrschell\n",
      "138045\n",
      "flex verbind schlauch silikon ktwa ueberwurfmutt\n",
      "117573\n",
      "technik\n",
      "333634\n",
      "crassus schlauchadapt druckdicht\n",
      "308319\n",
      "stueck rotguss\n",
      "315988\n",
      "mepa badewannefuss\n",
      "308735\n",
      "fahrtkost anfahrt\n",
      "74994\n",
      "wand deckenflaech festig untergrund arbeitsgang tiefgrund grundi untergrund loesungsm\n",
      "37046\n",
      "kupferrohr sanco dvgw weich ring\n",
      "364284\n",
      "stueck rotguss\n",
      "191854\n",
      "glaswoll\n",
      "185750\n",
      "car blitzzement eim abbindezeit minut conel\n",
      "262299\n",
      "bog profipress\n",
      "193837\n",
      "rotguss stueck\n",
      "16957\n",
      "schlauchisolier flex angeschlitzt laeng\n",
      "357605\n",
      "eckmontageelement wandhaeng stahl spuelkast betaet vorn befest mau\n",
      "257125\n",
      "verbindungsstell\n",
      "187050\n",
      "dachdeckermoertel grau faserarrniert\n",
      "236028\n",
      "cosmoflex schutzschlauch isolierdick\n",
      "92512\n",
      "geberit spannverbind\n",
      "299163\n",
      "rotguss stueck\n",
      "245294\n",
      "profipress bog\n",
      "32840\n",
      "pressbog\n",
      "173093\n",
      "klebeband tag klebeband\n",
      "64190\n",
      "iner stellung\n",
      "146783\n",
      "concept armaflex flexibl rohrisolier synthet kautschuk beschrieb lief\n",
      "264991\n",
      "unterputzsiphon\n",
      "286688\n",
      "badewannenfuss acryl badew wannenleist wannenank mabo\n",
      "81154\n",
      "rotguss nippel kant\n",
      "189522\n",
      "sanfix stueck\n",
      "332397\n",
      "wand deckenflaech festig untergrund arbeitsgang tiefgrund grundi untergrund\n",
      "134900\n",
      "injektionsmoertel\n",
      "23656\n",
      "abflussrohr geberit uebergaeng konfix vomi verbindungsstueck anschlussmaterial\n",
      "169472\n",
      "geberit silent\n"
     ]
    }
   ],
   "source": [
    "for no in sub_i.nodes():\n",
    "  print(no)\n",
    "  print(index2doc[int(no)])"
   ]
  },
  {
   "cell_type": "code",
   "execution_count": null,
   "metadata": {},
   "outputs": [],
   "source": [
    "\n",
    "# scores_doc = deepcopy(corpus_cl)\n",
    "# scores_doc.shape\n",
    "# scores_doc['page rank'] = list(scores.values())\n",
    "\n",
    "# ranked_sentence = scores_doc.sort_values(by='page rank', ascending=False, na_position='first')\n",
    "\n",
    "# top_n = 3\n",
    "# summarize_text = ranked_sentence.head(top_n)\n",
    "\n",
    "# print(\"Top ranked_sentences:\\n\")\n",
    "# for z, i in enumerate(summarize_text['text'].values):\n",
    "#     print(z, i, \"\\n\")"
   ]
  },
  {
   "cell_type": "code",
   "execution_count": 157,
   "metadata": {},
   "outputs": [
    {
     "data": {
      "text/plain": [
       "'abzweig muff abgang'"
      ]
     },
     "execution_count": 157,
     "metadata": {},
     "output_type": "execute_result"
    }
   ],
   "source": [
    "index2doc[int(max_rank_index)]"
   ]
  },
  {
   "cell_type": "code",
   "execution_count": 141,
   "metadata": {},
   "outputs": [
    {
     "data": {
      "text/plain": [
       "'einsatz bohrhamm hilti'"
      ]
     },
     "execution_count": 141,
     "metadata": {},
     "output_type": "execute_result"
    }
   ],
   "source": [
    "index2doc.keys()\n",
    "index2doc[int(no)]"
   ]
  },
  {
   "cell_type": "markdown",
   "metadata": {},
   "source": [
    "## Convert networkX graph to pyG"
   ]
  },
  {
   "cell_type": "code",
   "execution_count": 111,
   "metadata": {},
   "outputs": [],
   "source": [
    "#from torch_geometric.utils.convert import from_networkx\n",
    "\n",
    "import torch, os\n",
    "import torch.nn as nn\n",
    "import torch.nn.functional as F"
   ]
  },
  {
   "cell_type": "code",
   "execution_count": 113,
   "metadata": {},
   "outputs": [
    {
     "ename": "OSError",
     "evalue": "/home/alexv84/anaconda3/envs/invoice_clustering/lib/python3.10/site-packages/torch_sparse/_version_cuda.so: undefined symbol: _ZN5torch3jit17parseSchemaOrNameERKSs",
     "output_type": "error",
     "traceback": [
      "\u001b[0;31m---------------------------------------------------------------------------\u001b[0m",
      "\u001b[0;31mOSError\u001b[0m                                   Traceback (most recent call last)",
      "Cell \u001b[0;32mIn [113], line 1\u001b[0m\n\u001b[0;32m----> 1\u001b[0m \u001b[38;5;28;01mfrom\u001b[39;00m \u001b[38;5;21;01mtorch_geometric\u001b[39;00m\u001b[38;5;21;01m.\u001b[39;00m\u001b[38;5;21;01mnn\u001b[39;00m\u001b[38;5;21;01m.\u001b[39;00m\u001b[38;5;21;01mmodels\u001b[39;00m \u001b[38;5;28;01mimport\u001b[39;00m InnerProductDecoder, VGAE\n\u001b[1;32m      2\u001b[0m \u001b[38;5;66;03m#from torch_geometric.nn.conv import GCNConv\u001b[39;00m\n\u001b[1;32m      3\u001b[0m \u001b[38;5;66;03m#from torch_geometric.utils import negative_sampling, remove_self_loops, add_self_loops\u001b[39;00m\n",
      "File \u001b[0;32m~/anaconda3/envs/invoice_clustering/lib/python3.10/site-packages/torch_geometric/__init__.py:4\u001b[0m\n\u001b[1;32m      1\u001b[0m \u001b[39mfrom\u001b[39;00m \u001b[39mtypes\u001b[39;00m \u001b[39mimport\u001b[39;00m ModuleType\n\u001b[1;32m      2\u001b[0m \u001b[39mfrom\u001b[39;00m \u001b[39mimportlib\u001b[39;00m \u001b[39mimport\u001b[39;00m import_module\n\u001b[0;32m----> 4\u001b[0m \u001b[39mimport\u001b[39;00m \u001b[39mtorch_geometric\u001b[39;00m\u001b[39m.\u001b[39;00m\u001b[39mdata\u001b[39;00m\n\u001b[1;32m      5\u001b[0m \u001b[39mimport\u001b[39;00m \u001b[39mtorch_geometric\u001b[39;00m\u001b[39m.\u001b[39;00m\u001b[39mloader\u001b[39;00m\n\u001b[1;32m      6\u001b[0m \u001b[39mimport\u001b[39;00m \u001b[39mtorch_geometric\u001b[39;00m\u001b[39m.\u001b[39;00m\u001b[39mtransforms\u001b[39;00m\n",
      "File \u001b[0;32m~/anaconda3/envs/invoice_clustering/lib/python3.10/site-packages/torch_geometric/data/__init__.py:1\u001b[0m\n\u001b[0;32m----> 1\u001b[0m \u001b[39mfrom\u001b[39;00m \u001b[39m.\u001b[39;00m\u001b[39mdata\u001b[39;00m \u001b[39mimport\u001b[39;00m Data\n\u001b[1;32m      2\u001b[0m \u001b[39mfrom\u001b[39;00m \u001b[39m.\u001b[39;00m\u001b[39mhetero_data\u001b[39;00m \u001b[39mimport\u001b[39;00m HeteroData\n\u001b[1;32m      3\u001b[0m \u001b[39mfrom\u001b[39;00m \u001b[39m.\u001b[39;00m\u001b[39mtemporal\u001b[39;00m \u001b[39mimport\u001b[39;00m TemporalData\n",
      "File \u001b[0;32m~/anaconda3/envs/invoice_clustering/lib/python3.10/site-packages/torch_geometric/data/data.py:20\u001b[0m\n\u001b[1;32m     18\u001b[0m \u001b[39mimport\u001b[39;00m \u001b[39mtorch\u001b[39;00m\n\u001b[1;32m     19\u001b[0m \u001b[39mfrom\u001b[39;00m \u001b[39mtorch\u001b[39;00m \u001b[39mimport\u001b[39;00m Tensor\n\u001b[0;32m---> 20\u001b[0m \u001b[39mfrom\u001b[39;00m \u001b[39mtorch_sparse\u001b[39;00m \u001b[39mimport\u001b[39;00m SparseTensor\n\u001b[1;32m     22\u001b[0m \u001b[39mfrom\u001b[39;00m \u001b[39mtorch_geometric\u001b[39;00m\u001b[39m.\u001b[39;00m\u001b[39mdata\u001b[39;00m\u001b[39m.\u001b[39;00m\u001b[39mfeature_store\u001b[39;00m \u001b[39mimport\u001b[39;00m (\n\u001b[1;32m     23\u001b[0m     FeatureStore,\n\u001b[1;32m     24\u001b[0m     FeatureTensorType,\n\u001b[1;32m     25\u001b[0m     TensorAttr,\n\u001b[1;32m     26\u001b[0m     _field_status,\n\u001b[1;32m     27\u001b[0m )\n\u001b[1;32m     28\u001b[0m \u001b[39mfrom\u001b[39;00m \u001b[39mtorch_geometric\u001b[39;00m\u001b[39m.\u001b[39;00m\u001b[39mdata\u001b[39;00m\u001b[39m.\u001b[39;00m\u001b[39mgraph_store\u001b[39;00m \u001b[39mimport\u001b[39;00m (\n\u001b[1;32m     29\u001b[0m     EDGE_LAYOUT_TO_ATTR_NAME,\n\u001b[1;32m     30\u001b[0m     EdgeAttr,\n\u001b[0;32m   (...)\u001b[0m\n\u001b[1;32m     34\u001b[0m     edge_tensor_type_to_adj_type,\n\u001b[1;32m     35\u001b[0m )\n",
      "File \u001b[0;32m~/anaconda3/envs/invoice_clustering/lib/python3.10/site-packages/torch_sparse/__init__.py:19\u001b[0m\n\u001b[1;32m     17\u001b[0m spec \u001b[39m=\u001b[39m cuda_spec \u001b[39mor\u001b[39;00m cpu_spec\n\u001b[1;32m     18\u001b[0m \u001b[39mif\u001b[39;00m spec \u001b[39mis\u001b[39;00m \u001b[39mnot\u001b[39;00m \u001b[39mNone\u001b[39;00m:\n\u001b[0;32m---> 19\u001b[0m     torch\u001b[39m.\u001b[39;49mops\u001b[39m.\u001b[39;49mload_library(spec\u001b[39m.\u001b[39;49morigin)\n\u001b[1;32m     20\u001b[0m \u001b[39melse\u001b[39;00m:  \u001b[39m# pragma: no cover\u001b[39;00m\n\u001b[1;32m     21\u001b[0m     \u001b[39mraise\u001b[39;00m \u001b[39mImportError\u001b[39;00m(\u001b[39mf\u001b[39m\u001b[39m\"\u001b[39m\u001b[39mCould not find module \u001b[39m\u001b[39m'\u001b[39m\u001b[39m{\u001b[39;00mlibrary\u001b[39m}\u001b[39;00m\u001b[39m_cpu\u001b[39m\u001b[39m'\u001b[39m\u001b[39m in \u001b[39m\u001b[39m\"\u001b[39m\n\u001b[1;32m     22\u001b[0m                       \u001b[39mf\u001b[39m\u001b[39m\"\u001b[39m\u001b[39m{\u001b[39;00mosp\u001b[39m.\u001b[39mdirname(\u001b[39m__file__\u001b[39m)\u001b[39m}\u001b[39;00m\u001b[39m\"\u001b[39m)\n",
      "File \u001b[0;32m~/anaconda3/envs/invoice_clustering/lib/python3.10/site-packages/torch/_ops.py:255\u001b[0m, in \u001b[0;36m_Ops.load_library\u001b[0;34m(self, path)\u001b[0m\n\u001b[1;32m    250\u001b[0m path \u001b[39m=\u001b[39m torch\u001b[39m.\u001b[39m_utils_internal\u001b[39m.\u001b[39mresolve_library_path(path)\n\u001b[1;32m    251\u001b[0m \u001b[39mwith\u001b[39;00m dl_open_guard():\n\u001b[1;32m    252\u001b[0m     \u001b[39m# Import the shared library into the process, thus running its\u001b[39;00m\n\u001b[1;32m    253\u001b[0m     \u001b[39m# static (global) initialization code in order to register custom\u001b[39;00m\n\u001b[1;32m    254\u001b[0m     \u001b[39m# operators with the JIT.\u001b[39;00m\n\u001b[0;32m--> 255\u001b[0m     ctypes\u001b[39m.\u001b[39;49mCDLL(path)\n\u001b[1;32m    256\u001b[0m \u001b[39mself\u001b[39m\u001b[39m.\u001b[39mloaded_libraries\u001b[39m.\u001b[39madd(path)\n",
      "File \u001b[0;32m~/anaconda3/envs/invoice_clustering/lib/python3.10/ctypes/__init__.py:374\u001b[0m, in \u001b[0;36mCDLL.__init__\u001b[0;34m(self, name, mode, handle, use_errno, use_last_error, winmode)\u001b[0m\n\u001b[1;32m    371\u001b[0m \u001b[39mself\u001b[39m\u001b[39m.\u001b[39m_FuncPtr \u001b[39m=\u001b[39m _FuncPtr\n\u001b[1;32m    373\u001b[0m \u001b[39mif\u001b[39;00m handle \u001b[39mis\u001b[39;00m \u001b[39mNone\u001b[39;00m:\n\u001b[0;32m--> 374\u001b[0m     \u001b[39mself\u001b[39m\u001b[39m.\u001b[39m_handle \u001b[39m=\u001b[39m _dlopen(\u001b[39mself\u001b[39;49m\u001b[39m.\u001b[39;49m_name, mode)\n\u001b[1;32m    375\u001b[0m \u001b[39melse\u001b[39;00m:\n\u001b[1;32m    376\u001b[0m     \u001b[39mself\u001b[39m\u001b[39m.\u001b[39m_handle \u001b[39m=\u001b[39m handle\n",
      "\u001b[0;31mOSError\u001b[0m: /home/alexv84/anaconda3/envs/invoice_clustering/lib/python3.10/site-packages/torch_sparse/_version_cuda.so: undefined symbol: _ZN5torch3jit17parseSchemaOrNameERKSs"
     ]
    }
   ],
   "source": [
    "from torch_geometric.nn.models import InnerProductDecoder, VGAE\n",
    "#from torch_geometric.nn.conv import GCNConv\n",
    "#from torch_geometric.utils import negative_sampling, remove_self_loops, add_self_loops\n"
   ]
  },
  {
   "cell_type": "code",
   "execution_count": null,
   "metadata": {},
   "outputs": [],
   "source": []
  }
 ],
 "metadata": {
  "kernelspec": {
   "display_name": "Python 3.10.6 ('invoice_clustering')",
   "language": "python",
   "name": "python3"
  },
  "language_info": {
   "codemirror_mode": {
    "name": "ipython",
    "version": 3
   },
   "file_extension": ".py",
   "mimetype": "text/x-python",
   "name": "python",
   "nbconvert_exporter": "python",
   "pygments_lexer": "ipython3",
   "version": "3.10.6"
  },
  "vscode": {
   "interpreter": {
    "hash": "d526cfcd5fd4d465ac403ea669a57e4582cfb7b27b70ba3d9f21a7484c253256"
   }
  }
 },
 "nbformat": 4,
 "nbformat_minor": 4
}
